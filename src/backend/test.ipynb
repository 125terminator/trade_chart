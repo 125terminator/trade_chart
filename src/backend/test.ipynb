{
 "cells": [
  {
   "cell_type": "code",
   "execution_count": 31,
   "metadata": {},
   "outputs": [],
   "source": [
    "import json\n",
    "import shutil\n",
    "from abc import ABC, abstractmethod\n",
    "\n",
    "class DB(ABC):\n",
    "    def __init__(self, filename, schema):\n",
    "        self.filename = filename\n",
    "        # shutil.copyfile(filename, filename + 'copy')\n",
    "        \n",
    "    def write(self, data):\n",
    "        with open(self.filename, 'w') as f:\n",
    "            f.write(json.dumps(data))\n",
    "\n",
    "    def read(self):\n",
    "        with open(self.filename, 'r') as f:\n",
    "            return json.load(f)"
   ]
  },
  {
   "cell_type": "code",
   "execution_count": 33,
   "metadata": {},
   "outputs": [
    {
     "name": "stdout",
     "output_type": "stream",
     "text": [
      "{'buy': [('intraday', 100, '10:05', 102)], 'sell': []}\n"
     ]
    }
   ],
   "source": [
    "class Date(DB):\n",
    "    def __init__(self):\n",
    "        self.data = {'now': 'current date'}\n",
    "        super().__init__('../../data/date.json', self.data)\n",
    "\n",
    "    @property\n",
    "    def now(self):\n",
    "        return self.read()['now']\n",
    "\n",
    "from const import *\n",
    "class User(DB):\n",
    "    def __init__(self):\n",
    "        self.data = {'buy': [], 'sell': []}\n",
    "        super().__init__('../../data/user.json', self.data)\n",
    "        self.date = Date()\n",
    "\n",
    "    def buy(self, time, type, quantity, price):\n",
    "        self.data['buy'].append((type, quantity, time, price))\n",
    "    \n",
    "    def sell(self, time, type, quantity, price):\n",
    "        self.data['sell'].append((type, quantity, time, price))\n",
    "\n",
    "o = User()\n",
    "o.buy(INTRADAY, 100, \"10:05\", 102)\n",
    "print(o.data)\n",
    "# https://pandas.pydata.org/pandas-docs/stable/reference/api/pandas.Series.searchsorted.html"
   ]
  },
  {
   "cell_type": "code",
   "execution_count": 56,
   "metadata": {},
   "outputs": [
    {
     "name": "stdout",
     "output_type": "stream",
     "text": [
      "1\n",
      "a\n",
      "1\n",
      "a\n",
      "b\n"
     ]
    }
   ],
   "source": [
    "class a:\n",
    "    def __init__(self):\n",
    "        self.data = 1\n",
    "    def fn(self):\n",
    "        print(self.data)\n",
    "        print('a')\n",
    "\n",
    "class b(a):\n",
    "    def __init__(self):\n",
    "        # super().data = 2\n",
    "        self.data = 2\n",
    "        super().__init__()\n",
    "        super().fn()\n",
    "    def fn(self):\n",
    "        super().fn()\n",
    "        print('b')\n",
    "        # self.data = 100\n",
    "        # print(super().data)\n",
    "        # print(self.data)\n",
    "\n",
    "o = b()\n",
    "o.fn()"
   ]
  }
 ],
 "metadata": {
  "interpreter": {
   "hash": "aee8b7b246df8f9039afb4144a1f6fd8d2ca17a180786b69acc140d282b71a49"
  },
  "kernelspec": {
   "display_name": "Python 3.9.10 64-bit",
   "language": "python",
   "name": "python3"
  },
  "language_info": {
   "codemirror_mode": {
    "name": "ipython",
    "version": 3
   },
   "file_extension": ".py",
   "mimetype": "text/x-python",
   "name": "python",
   "nbconvert_exporter": "python",
   "pygments_lexer": "ipython3",
   "version": "3.9.10"
  },
  "orig_nbformat": 4
 },
 "nbformat": 4,
 "nbformat_minor": 2
}
