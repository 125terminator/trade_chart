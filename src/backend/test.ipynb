{
 "cells": [
  {
   "cell_type": "code",
   "execution_count": 2,
   "metadata": {},
   "outputs": [],
   "source": [
    "from collections import OrderedDict\n",
    "\n",
    "import pandas as pd\n",
    "import numpy as np\n",
    "\n",
    "class OHLC:\n",
    "    def __init__(self, filename, clean=True):\n",
    "        # Never input df data which is daily, interval should be in minutes, hours\n",
    "        self.df = pd.read_csv(filename)\n",
    "\n",
    "        # Remove unnessary columns\n",
    "        self.df.drop('6', axis=1, inplace=True)\n",
    "        self.df.drop('Unnamed: 0', axis=1, inplace=True)\n",
    "\n",
    "        # Convert string dates to pd.Datetime\n",
    "        self.df.Date = pd.DatetimeIndex(self.df.Date)\n",
    "\n",
    "        # interval is in minues\n",
    "        self.interval = None\n",
    "        self.days = None\n",
    "        # This is the number of data points in each day\n",
    "        self.eachDayRows = None\n",
    "\n",
    "        if clean:\n",
    "            # Remove wrong data rows from df\n",
    "            self.cleanDf()\n",
    "            self.findInterval()\n",
    "\n",
    "            # Assert no extra wrong rows remain now after cleanup\n",
    "            assert self.eachDayRows*self.days == self.df.shape[0]\n",
    "\n",
    "        self.df.set_index('Date', inplace=True) \n",
    "        \n",
    "        # Remove timezone from timestamp\n",
    "        self.df.index = [i.replace(tzinfo=None) for i in self.df.index]\n",
    "\n",
    "    def toInterval(self, minutes):\n",
    "        # Resamples df to the minutes input provided\n",
    "        OHLCV_AGG = OrderedDict((\n",
    "            ('Open', 'first'),\n",
    "            ('High', 'max'),\n",
    "            ('Low', 'min'),\n",
    "            ('Close', 'last'),\n",
    "            ('Volume', 'sum'),\n",
    "        ))\n",
    "        freq_minutes = pd.Series({\n",
    "            \"1T\": 1,\n",
    "            \"5T\": 5,\n",
    "            \"10T\": 10,\n",
    "            \"15T\": 15,\n",
    "            \"30T\": 30,\n",
    "            \"1H\": 60,\n",
    "            \"2H\": 60*2,\n",
    "            \"4H\": 60*4,\n",
    "            \"8H\": 60*8,\n",
    "            \"1D\": 60*24,\n",
    "            \"1W\": 60*24*7,\n",
    "            \"1M\": np.inf,\n",
    "        })\n",
    "\n",
    "        freq = freq_minutes.where(freq_minutes >= minutes).first_valid_index()\n",
    "        return self.df.resample(freq, label='left', closed=\"left\", origin='start').agg(OHLCV_AGG).dropna()\n",
    "\n",
    "    def between_time(self, start, end):\n",
    "        # if string convert to pd.to_datetime(\"2015-03-02T09:17:00\")\n",
    "        return self.df[(self.df.index >= start) & (self.df.index <= end)]\n",
    "\n",
    "    def findInterval(self):\n",
    "        mp = dict()\n",
    "        i = 0\n",
    "        dayCnt = 0\n",
    "        while i < self.df.shape[0]:\n",
    "            j = i+1\n",
    "            dayCnt += 1\n",
    "            while j < self.df.shape[0] and self.df.Date[i].day == self.df.Date[j].day:\n",
    "                interval = (self.df.Date[j] - self.df.Date[j-1]).total_seconds()\n",
    "                if interval in mp:\n",
    "                    mp[interval]+=1\n",
    "                else:\n",
    "                    mp[interval]=1\n",
    "                j+=1\n",
    "            i = j\n",
    "\n",
    "        # Assert only one type of interval should exist\n",
    "        assert(len(mp)) == 1\n",
    "\n",
    "        # Dividing the interval by 60 to convert seconds to minutes\n",
    "        self.interval = list(mp.keys())[0]/60\n",
    "        self.days = dayCnt\n",
    "\n",
    "    def cleanDf(self):\n",
    "        def allIntervals():\n",
    "            # Return a map with \n",
    "            # keys -> number of intervals in a day\n",
    "            # values -> number of days with this interval\n",
    "            mp = dict()\n",
    "            i = 0\n",
    "            while i < self.df.shape[0]:\n",
    "                j = i\n",
    "                while j < self.df.shape[0] and self.df.Date[i].day == self.df.Date[j].day:\n",
    "                    j+=1\n",
    "                if j-i in mp:\n",
    "                    mp[j-i].append((i, j))\n",
    "                else:\n",
    "                    mp[j-i]=[(i, j)]\n",
    "                i = j\n",
    "            return mp\n",
    "        \n",
    "        mp = allIntervals()\n",
    "\n",
    "        # Drop data which is not a most occurring number of interval in a day\n",
    "        maxlen = 0\n",
    "        for i in mp.values():\n",
    "            maxlen = max(maxlen, len(i))\n",
    "        \n",
    "        # Store to be deleted indices\n",
    "        rmIndx = []\n",
    "        for i in mp.values():\n",
    "            if len(i) < maxlen:\n",
    "                for pair in i:\n",
    "                    rmIndx.extend(np.arange(pair[0], pair[1]))\n",
    "        \n",
    "        self.df.drop(rmIndx, axis=0, inplace=True)\n",
    "        self.df.index = np.arange(0, self.df.shape[0])\n",
    "\n",
    "        # After cleanup only one type of interval should remain\n",
    "        mp = allIntervals()\n",
    "        assert len(mp) == 1\n",
    "        self.eachDayRows = list(mp)[0]"
   ]
  },
  {
   "cell_type": "code",
   "execution_count": 3,
   "metadata": {},
   "outputs": [],
   "source": [
    "from pandas.tseries.frequencies import to_offset\n",
    "\n",
    "o = OHLC('../../data/reliance.csv', clean=False)"
   ]
  },
  {
   "cell_type": "code",
   "execution_count": 12,
   "metadata": {},
   "outputs": [],
   "source": [
    "mins = 1\n",
    "df = o.toInterval(mins)"
   ]
  },
  {
   "cell_type": "code",
   "execution_count": 20,
   "metadata": {},
   "outputs": [
    {
     "data": {
      "text/plain": [
       "array([False, False,  True, ...,  True,  True,  True])"
      ]
     },
     "execution_count": 20,
     "metadata": {},
     "output_type": "execute_result"
    }
   ],
   "source": [
    "a = o.df.index >= \"2015-03-02 09:17:00\"\n",
    "a"
   ]
  },
  {
   "cell_type": "code",
   "execution_count": 29,
   "metadata": {},
   "outputs": [
    {
     "data": {
      "text/plain": [
       "(430.65, 430.9, 429.85, 430.1, 30634.0)"
      ]
     },
     "execution_count": 29,
     "metadata": {},
     "output_type": "execute_result"
    }
   ],
   "source": [
    "o, h, l, c, v = o.df.iloc[0]\n",
    "# o.df\n",
    "o, h, l, c, v"
   ]
  },
  {
   "cell_type": "code",
   "execution_count": 74,
   "metadata": {},
   "outputs": [
    {
     "data": {
      "text/plain": [
       "array([False,  True,  True, ...,  True,  True,  True])"
      ]
     },
     "execution_count": 74,
     "metadata": {},
     "output_type": "execute_result"
    }
   ],
   "source": [
    "startTime = pd.to_datetime(\"2015-03-12T15:29:00+0530\").tz_convert(0)\n",
    "\n",
    "from datetime import datetime\n",
    "from dateutil import parser\n",
    "dt = \"2015-03-02T09:16:00+0530\"\n",
    "o.df.index >= parser.parse(dt, ignoretz=True)\n",
    "# datetime.fromtimestamp(1662408786115/1000.0)"
   ]
  },
  {
   "cell_type": "code",
   "execution_count": 94,
   "metadata": {},
   "outputs": [
    {
     "name": "stdout",
     "output_type": "stream",
     "text": [
      "2015-03-02 09:15:00+05:30\n"
     ]
    },
    {
     "data": {
      "text/plain": [
       "Timestamp('2015-03-12 09:59:00+0000', tz='UTC')"
      ]
     },
     "execution_count": 94,
     "metadata": {},
     "output_type": "execute_result"
    }
   ],
   "source": [
    "print(o.df.index[0].tz_localize('Asia/Kolkata'))\n",
    "pd.to_datetime(\"2015-03-12T15:29:00+0530\").tz_convert(0)"
   ]
  },
  {
   "cell_type": "code",
   "execution_count": 59,
   "metadata": {},
   "outputs": [
    {
     "data": {
      "text/plain": [
       "array([False, False, False, ..., False, False, False])"
      ]
     },
     "execution_count": 59,
     "metadata": {},
     "output_type": "execute_result"
    }
   ],
   "source": [
    "import datetime\n",
    "o.df.index >= datetime.datetime.fromtimestamp(1662408786115/1000.0)"
   ]
  }
 ],
 "metadata": {
  "interpreter": {
   "hash": "aee8b7b246df8f9039afb4144a1f6fd8d2ca17a180786b69acc140d282b71a49"
  },
  "kernelspec": {
   "display_name": "Python 3.9.10 64-bit",
   "language": "python",
   "name": "python3"
  },
  "language_info": {
   "codemirror_mode": {
    "name": "ipython",
    "version": 3
   },
   "file_extension": ".py",
   "mimetype": "text/x-python",
   "name": "python",
   "nbconvert_exporter": "python",
   "pygments_lexer": "ipython3",
   "version": "3.9.10"
  },
  "orig_nbformat": 4
 },
 "nbformat": 4,
 "nbformat_minor": 2
}
