{
 "cells": [
  {
   "cell_type": "code",
   "execution_count": 1,
   "metadata": {},
   "outputs": [],
   "source": [
    "from OHLC import OHLC\n",
    "class Historical:\n",
    "    def __init__(self):\n",
    "        self.ohlc = {}\n",
    "\n",
    "    def get(self, symbol):\n",
    "        if symbol not in self.ohlc:\n",
    "            file = f'../../data/{symbol}.csv'\n",
    "            if not os.path.isfile(file):\n",
    "                return None\n",
    "            data = OHLC(file, clean=False)\n",
    "            self.ohlc.update({symbol: data})\n",
    "            return data\n",
    "        return self.ohlc[symbol]\n",
    "\n",
    "historical = Historical()"
   ]
  },
  {
   "cell_type": "code",
   "execution_count": 2,
   "metadata": {},
   "outputs": [],
   "source": [
    "df = historical.get('ashokley').df"
   ]
  },
  {
   "cell_type": "code",
   "execution_count": 3,
   "metadata": {},
   "outputs": [
    {
     "data": {
      "text/plain": [
       "DatetimeIndex(['2021-12-08 09:15:00', '2021-12-08 09:16:00',\n",
       "               '2021-12-08 09:17:00', '2021-12-08 09:18:00',\n",
       "               '2021-12-08 09:19:00', '2021-12-08 09:20:00',\n",
       "               '2021-12-08 09:21:00', '2021-12-08 09:22:00',\n",
       "               '2021-12-08 09:23:00', '2021-12-08 09:24:00',\n",
       "               ...\n",
       "               '2022-01-13 13:16:00', '2022-01-13 13:17:00',\n",
       "               '2022-01-13 13:18:00', '2022-01-13 13:19:00',\n",
       "               '2022-01-13 13:20:00', '2022-01-13 13:21:00',\n",
       "               '2022-01-13 13:22:00', '2022-01-13 13:23:00',\n",
       "               '2022-01-13 13:24:00', '2022-01-13 13:25:00'],\n",
       "              dtype='datetime64[ns]', length=10000, freq=None)"
      ]
     },
     "execution_count": 3,
     "metadata": {},
     "output_type": "execute_result"
    }
   ],
   "source": [
    "start, end = \"2022-02-02 09:15:00\", \"2022-03-01 13:23:00\"\n",
    "df.index"
   ]
  },
  {
   "cell_type": "code",
   "execution_count": null,
   "metadata": {},
   "outputs": [],
   "source": []
  }
 ],
 "metadata": {
  "interpreter": {
   "hash": "aee8b7b246df8f9039afb4144a1f6fd8d2ca17a180786b69acc140d282b71a49"
  },
  "kernelspec": {
   "display_name": "Python 3.9.10 64-bit",
   "language": "python",
   "name": "python3"
  },
  "language_info": {
   "codemirror_mode": {
    "name": "ipython",
    "version": 3
   },
   "file_extension": ".py",
   "mimetype": "text/x-python",
   "name": "python",
   "nbconvert_exporter": "python",
   "pygments_lexer": "ipython3",
   "version": "3.9.10"
  },
  "orig_nbformat": 4
 },
 "nbformat": 4,
 "nbformat_minor": 2
}
