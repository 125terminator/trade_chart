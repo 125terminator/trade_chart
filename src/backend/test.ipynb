{
 "cells": [
  {
   "cell_type": "code",
   "execution_count": 30,
   "metadata": {},
   "outputs": [],
   "source": [
    "import json\n",
    "from abc import ABC, abstractmethod\n",
    "\n",
    "class DB(ABC):\n",
    "    def __init__(self, filename, schema):\n",
    "        self.filename = filename\n",
    "        \n",
    "    def write(self, data):\n",
    "        with open(self.filename, 'w') as f:\n",
    "            f.write(json.dumps(data))\n",
    "\n",
    "    def read(self):\n",
    "        with open(self.filename, 'r') as f:\n",
    "            return json.load(f)"
   ]
  },
  {
   "cell_type": "code",
   "execution_count": 29,
   "metadata": {},
   "outputs": [
    {
     "data": {
      "text/plain": [
       "'2015-03-12T15:29:00+0530'"
      ]
     },
     "execution_count": 29,
     "metadata": {},
     "output_type": "execute_result"
    }
   ],
   "source": [
    "class Date(DB):\n",
    "    def __init__(self):\n",
    "        self.data = {'now': 'current date'}\n",
    "        super().__init__('../../data/date.json', self.schema)\n",
    "\n",
    "    @property\n",
    "    def now(self):\n",
    "        return self.read()['now']\n",
    "\n",
    "class User(DB):\n",
    "    def __init__(self):\n",
    "        self.data = {'buy': [], 'sell': []}\n",
    "        super().__init__('../../data/user.json', self.data)\n",
    "        self.date = Date()\n",
    "\n",
    "    def buy(self, quantity):\n",
    "        self.data['buy'].append((self.date.now, quantity))\n",
    "    \n",
    "    def sell(self, quantity):\n",
    "        self.data['sell'].append((self.date.now, quantity))\n",
    "\n",
    "o = Date()\n",
    "o.now\n",
    "# https://pandas.pydata.org/pandas-docs/stable/reference/api/pandas.Series.searchsorted.html"
   ]
  }
 ],
 "metadata": {
  "interpreter": {
   "hash": "aee8b7b246df8f9039afb4144a1f6fd8d2ca17a180786b69acc140d282b71a49"
  },
  "kernelspec": {
   "display_name": "Python 3.9.10 64-bit",
   "language": "python",
   "name": "python3"
  },
  "language_info": {
   "codemirror_mode": {
    "name": "ipython",
    "version": 3
   },
   "file_extension": ".py",
   "mimetype": "text/x-python",
   "name": "python",
   "nbconvert_exporter": "python",
   "pygments_lexer": "ipython3",
   "version": "3.9.10"
  },
  "orig_nbformat": 4
 },
 "nbformat": 4,
 "nbformat_minor": 2
}
